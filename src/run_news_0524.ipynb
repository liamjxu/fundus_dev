{
 "cells": [
  {
   "cell_type": "code",
   "execution_count": 1,
   "metadata": {},
   "outputs": [],
   "source": [
    "from datetime import datetime\n",
    "from fundus import PublisherCollection, CCNewsCrawler\n",
    "\n",
    "# initialize the crawler for news publishers based in the US\n",
    "crawler = CCNewsCrawler(*PublisherCollection.us, start=datetime(2024, 5, 24))"
   ]
  },
  {
   "cell_type": "markdown",
   "metadata": {},
   "source": []
  },
  {
   "cell_type": "code",
   "execution_count": 2,
   "metadata": {},
   "outputs": [
    {
     "name": "stderr",
     "output_type": "stream",
     "text": [
      "                                                         \r"
     ]
    },
    {
     "data": {
      "text/plain": [
       "['https://data.commoncrawl.org/crawl-data/CC-NEWS/2024/05/CC-NEWS-20240525085350-04238.warc.gz',\n",
       " 'https://data.commoncrawl.org/crawl-data/CC-NEWS/2024/05/CC-NEWS-20240525073031-04237.warc.gz',\n",
       " 'https://data.commoncrawl.org/crawl-data/CC-NEWS/2024/05/CC-NEWS-20240525060128-04236.warc.gz',\n",
       " 'https://data.commoncrawl.org/crawl-data/CC-NEWS/2024/05/CC-NEWS-20240525043308-04235.warc.gz',\n",
       " 'https://data.commoncrawl.org/crawl-data/CC-NEWS/2024/05/CC-NEWS-20240525023635-04234.warc.gz',\n",
       " 'https://data.commoncrawl.org/crawl-data/CC-NEWS/2024/05/CC-NEWS-20240525002746-04233.warc.gz',\n",
       " 'https://data.commoncrawl.org/crawl-data/CC-NEWS/2024/05/CC-NEWS-20240524223418-04232.warc.gz',\n",
       " 'https://data.commoncrawl.org/crawl-data/CC-NEWS/2024/05/CC-NEWS-20240524210524-04231.warc.gz',\n",
       " 'https://data.commoncrawl.org/crawl-data/CC-NEWS/2024/05/CC-NEWS-20240524194626-04230.warc.gz',\n",
       " 'https://data.commoncrawl.org/crawl-data/CC-NEWS/2024/05/CC-NEWS-20240524183712-04229.warc.gz',\n",
       " 'https://data.commoncrawl.org/crawl-data/CC-NEWS/2024/05/CC-NEWS-20240524173415-04228.warc.gz',\n",
       " 'https://data.commoncrawl.org/crawl-data/CC-NEWS/2024/05/CC-NEWS-20240524163210-04227.warc.gz',\n",
       " 'https://data.commoncrawl.org/crawl-data/CC-NEWS/2024/05/CC-NEWS-20240524153821-04226.warc.gz',\n",
       " 'https://data.commoncrawl.org/crawl-data/CC-NEWS/2024/05/CC-NEWS-20240524144541-04225.warc.gz',\n",
       " 'https://data.commoncrawl.org/crawl-data/CC-NEWS/2024/05/CC-NEWS-20240524135216-04224.warc.gz',\n",
       " 'https://data.commoncrawl.org/crawl-data/CC-NEWS/2024/05/CC-NEWS-20240524125649-04223.warc.gz',\n",
       " 'https://data.commoncrawl.org/crawl-data/CC-NEWS/2024/05/CC-NEWS-20240524120144-04222.warc.gz',\n",
       " 'https://data.commoncrawl.org/crawl-data/CC-NEWS/2024/05/CC-NEWS-20240524105913-04221.warc.gz',\n",
       " 'https://data.commoncrawl.org/crawl-data/CC-NEWS/2024/05/CC-NEWS-20240524095359-04220.warc.gz',\n",
       " 'https://data.commoncrawl.org/crawl-data/CC-NEWS/2024/05/CC-NEWS-20240524084253-04219.warc.gz',\n",
       " 'https://data.commoncrawl.org/crawl-data/CC-NEWS/2024/05/CC-NEWS-20240524073425-04218.warc.gz',\n",
       " 'https://data.commoncrawl.org/crawl-data/CC-NEWS/2024/05/CC-NEWS-20240524061003-04217.warc.gz',\n",
       " 'https://data.commoncrawl.org/crawl-data/CC-NEWS/2024/05/CC-NEWS-20240524043956-04216.warc.gz',\n",
       " 'https://data.commoncrawl.org/crawl-data/CC-NEWS/2024/05/CC-NEWS-20240524025138-04215.warc.gz',\n",
       " 'https://data.commoncrawl.org/crawl-data/CC-NEWS/2024/05/CC-NEWS-20240524005830-04214.warc.gz']"
      ]
     },
     "execution_count": 2,
     "metadata": {},
     "output_type": "execute_result"
    }
   ],
   "source": [
    "crawler._get_warc_paths()"
   ]
  },
  {
   "cell_type": "code",
   "execution_count": 3,
   "metadata": {},
   "outputs": [
    {
     "name": "stderr",
     "output_type": "stream",
     "text": [
      "                                                         \r"
     ]
    }
   ],
   "source": [
    "# crawl 2 articles and print\n",
    "res = []\n",
    "for article in crawler.crawl(max_articles=100):\n",
    "  res.append({\n",
    "    'requested_url': article.requested_url,\n",
    "    'responded_url': article.responded_url,\n",
    "    'content': article.content,\n",
    "    'source_info.publisher': article.source_info.publisher,\n",
    "    'source_info.warc_path': article.source_info.warc_path,\n",
    "    'source_info.warc_headers': article.source_info.warc_headers,\n",
    "    'source_info.http_headers': article.source_info.http_headers\n",
    "  })"
   ]
  },
  {
   "cell_type": "code",
   "execution_count": 4,
   "metadata": {},
   "outputs": [],
   "source": [
    "import json\n",
    "\n",
    "with open('news_0524_100.jsonl', 'w') as file:\n",
    "    for item in res:\n",
    "        json.dump(item, file)\n",
    "        file.write('\\n')"
   ]
  },
  {
   "cell_type": "code",
   "execution_count": 38,
   "metadata": {},
   "outputs": [
    {
     "data": {
      "text/plain": [
       "{'Content-Type': 'text/html; charset=utf-8',\n",
       " 'Server': 'openresty',\n",
       " 'ETag': 'W/\"73c3a-+Zd0oak5rBERno3p07UiVF20RSo\"',\n",
       " 'Last-Modified': 'Fri, 24 May 2024 18:37:12 GMT',\n",
       " 'Prerender-Cache-Tag': 'prerender-cmg-cmg-rd-20113-prod-727b46f4',\n",
       " 'x-arc-pb-request-id': '30e84fbc-4dee-4e92-a510-488a59b9ec99',\n",
       " 'X-Amz-Cf-Pop': 'ATL59-P2',\n",
       " 'X-Amz-Cf-Id': 'HWeWdYSup5dJSXfsH4EPrjSUFSCrS2oYKXSQ6ojfp4wzhYz8e1hccQ==',\n",
       " 'Vary': 'Accept-Encoding',\n",
       " 'X-Akamai-Transformed': '9 135172 0 pmb=mRUM,2',\n",
       " 'X-Crawler-Content-Encoding': 'gzip',\n",
       " 'Cache-Control': 'private, max-age=60',\n",
       " 'Expires': 'Fri, 24 May 2024 18:38:12 GMT',\n",
       " 'Date': 'Fri, 24 May 2024 18:37:12 GMT',\n",
       " 'X-Crawler-Transfer-Encoding': 'chunked',\n",
       " 'Connection': 'Transfer-Encoding',\n",
       " 'Set-Cookie': 'AKA_A2=A; expires=Fri, 24-May-2024 19:37:12 GMT; path=/; domain=1033theeagle.com; secure; HttpOnly',\n",
       " 'Server-Timing': 'ak_p; desc=\"1716575830087_389287889_1993560221_229447_8140_8_7_-\";dur=1',\n",
       " 'Link': '<https://imasdk.googleapis.com>;rel=\"preconnect\",<https://synchrobox.adswizz.com>;rel=\"preconnect\",<https://cdn.adswizz.com>;rel=\"preconnect\",<https://platform.twitter.com>;rel=\"preconnect\",<https://player.streamguys.com>;rel=\"preconnect\",<https://s.ntv.io>;rel=\"preconnect\",<https://connect.facebook.net>;rel=\"preconnect\",<https://assets.bounceexchange.com>;rel=\"preconnect\"',\n",
       " 'Content-Security-Policy': 'upgrade-insecure-requests',\n",
       " 'x-arc-request-id': '0.d10f3417.1716575830.76d3509d',\n",
       " 'Akamai-True-TTL': '-1'}"
      ]
     },
     "execution_count": 38,
     "metadata": {},
     "output_type": "execute_result"
    }
   ],
   "source": [
    "article.source_info.http_headers"
   ]
  },
  {
   "cell_type": "code",
   "execution_count": null,
   "metadata": {},
   "outputs": [],
   "source": []
  }
 ],
 "metadata": {
  "kernelspec": {
   "display_name": "news",
   "language": "python",
   "name": "python3"
  },
  "language_info": {
   "codemirror_mode": {
    "name": "ipython",
    "version": 3
   },
   "file_extension": ".py",
   "mimetype": "text/x-python",
   "name": "python",
   "nbconvert_exporter": "python",
   "pygments_lexer": "ipython3",
   "version": "3.10.14"
  }
 },
 "nbformat": 4,
 "nbformat_minor": 2
}
